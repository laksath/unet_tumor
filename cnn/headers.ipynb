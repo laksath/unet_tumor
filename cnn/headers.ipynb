{
 "cells": [
  {
   "cell_type": "markdown",
   "id": "fe4212d1",
   "metadata": {},
   "source": [
    "#### Necessary Libraries"
   ]
  },
  {
   "cell_type": "code",
   "execution_count": 1,
   "id": "e90227dc",
   "metadata": {},
   "outputs": [],
   "source": [
    "import glob\n",
    "import os, os.path\n",
    "import re"
   ]
  },
  {
   "cell_type": "code",
   "execution_count": 2,
   "id": "374975d5",
   "metadata": {},
   "outputs": [],
   "source": [
    "import pandas as pd\n",
    "import numpy as np\n",
    "import cv2\n",
    "import requests\n",
    "from PIL import Image\n",
    "from io import BytesIO\n",
    "from imageio import imread\n",
    "import matplotlib.pyplot as plt"
   ]
  },
  {
   "cell_type": "markdown",
   "id": "b1a46ec0",
   "metadata": {},
   "source": [
    "#### Keras Imports"
   ]
  },
  {
   "cell_type": "code",
   "execution_count": 3,
   "id": "26a175f3",
   "metadata": {},
   "outputs": [],
   "source": [
    "#keras imports\n",
    "import tensorflow as tf\n",
    "from tensorflow import keras\n",
    "import keras\n",
    "from keras.models import *\n",
    "from keras.layers import *\n",
    "from keras.optimizers import *\n",
    "from tensorflow.keras.utils import plot_model\n",
    "from keras.callbacks import ModelCheckpoint\n",
    "from keras import backend as keras"
   ]
  },
  {
   "cell_type": "markdown",
   "id": "bb8e2f8c",
   "metadata": {},
   "source": [
    "#### Split,Shuffle Data"
   ]
  },
  {
   "cell_type": "code",
   "execution_count": 4,
   "id": "2e82b9a4",
   "metadata": {},
   "outputs": [],
   "source": [
    "from sklearn.model_selection import train_test_split\n",
    "from fast_ml.model_development import train_valid_test_split\n",
    "from sklearn.utils import shuffle"
   ]
  },
  {
   "cell_type": "markdown",
   "id": "8624a95f",
   "metadata": {},
   "source": [
    "###### Save file"
   ]
  },
  {
   "cell_type": "code",
   "execution_count": 5,
   "id": "31367c33",
   "metadata": {},
   "outputs": [],
   "source": [
    "import time"
   ]
  }
 ],
 "metadata": {
  "kernelspec": {
   "display_name": "Python 3 (ipykernel)",
   "language": "python",
   "name": "python3"
  },
  "language_info": {
   "codemirror_mode": {
    "name": "ipython",
    "version": 3
   },
   "file_extension": ".py",
   "mimetype": "text/x-python",
   "name": "python",
   "nbconvert_exporter": "python",
   "pygments_lexer": "ipython3",
   "version": "3.8.12"
  }
 },
 "nbformat": 4,
 "nbformat_minor": 5
}

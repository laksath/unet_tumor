{
 "cells": [
  {
   "cell_type": "code",
   "execution_count": 1,
   "id": "b0237b1e",
   "metadata": {},
   "outputs": [],
   "source": [
    "%run headers.ipynb\n",
    "# %run dataset.ipynb\n",
    "# X_train, X_valid, X_test, y_train, y_valid, y_test = UNet_dataset_with_valid(0.7,0.15,0.15)"
   ]
  },
  {
   "cell_type": "code",
   "execution_count": 2,
   "id": "9c62db9f",
   "metadata": {},
   "outputs": [],
   "source": [
    "def DiceLoss(targets, inputs, smooth=1e-6):\n",
    "    \n",
    "    #flatten label and prediction tensors\n",
    "    inputs = keras.flatten(inputs)\n",
    "    targets = keras.flatten(targets)\n",
    "    \n",
    "    intersection = keras.sum(*targets*inputs)\n",
    "    dice = (2*intersection + smooth) / (keras.sum(targets) + keras.sum(inputs) + smooth)\n",
    "    return 1-dice"
   ]
  },
  {
   "cell_type": "code",
   "execution_count": 3,
   "id": "a2959472",
   "metadata": {},
   "outputs": [],
   "source": [
    "def dice_loss(y_true, y_pred):\n",
    "    return DiceLoss(y_true, y_pred)"
   ]
  },
  {
   "cell_type": "code",
   "execution_count": 4,
   "id": "6d758206",
   "metadata": {},
   "outputs": [],
   "source": [
    "def dice_coef(y_true, y_pred, smooth=1e-6):\n",
    "    # flatten\n",
    "    y_true_f = keras.flatten(y_true)\n",
    "    y_pred_f = keras.flatten(y_pred)\n",
    "    # one-hot encoding y with 3 labels : 0=background, 1=label1, 2=label2\n",
    "    y_true_f = keras.one_hot(keras.cast(y_true_f, np.uint8), 3)\n",
    "    y_pred_f = keras.one_hot(keras.cast(y_pred_f, np.uint8), 3)\n",
    "    # calculate intersection and union exluding background using y[:,1:]\n",
    "    intersection = keras.sum(y_true_f[:,1:]* y_pred_f[:,1:], axis=[-1])\n",
    "    union = keras.sum(y_true_f[:,1:], axis=[-1]) + keras.sum(y_pred_f[:,1:], axis=[-1])\n",
    "    # apply dice formula\n",
    "    dice = keras.mean((2. * intersection + smooth)/(union + smooth), axis=0)\n",
    "    return dice"
   ]
  },
  {
   "cell_type": "code",
   "execution_count": 5,
   "id": "73536f78",
   "metadata": {},
   "outputs": [],
   "source": [
    "# def DiceBCELoss(targets, inputs, smooth=1e-6,alpha=0):    \n",
    "       \n",
    "# #     #flatten label and prediction tensors\n",
    "# #     inputs = keras.flatten(inputs)\n",
    "# #     targets = keras.flatten(targets)\n",
    "    \n",
    "# #     intersection = keras.sum(targets*inputs)\n",
    "# #     dice = (2*intersection + smooth) / (keras.sum(targets) + keras.sum(inputs) + smooth)\n",
    "# #     dice_loss = 1 - dice\n",
    "    \n",
    "    \n",
    "#     # flatten\n",
    "#     y_true_f = keras.flatten(targets)\n",
    "#     y_pred_f = keras.flatten(inputs)\n",
    "#     # one-hot encoding y with 3 labels : 0=background, 1=label1, 2=label2\n",
    "#     y_true_f = keras.one_hot(keras.cast(y_true_f, np.uint8), 3)\n",
    "#     y_pred_f = keras.one_hot(keras.cast(y_pred_f, np.uint8), 3)\n",
    "#     # calculate intersection and union exluding background using y[:,1:]\n",
    "#     intersection = keras.sum(y_true_f[:,1:]* y_pred_f[:,1:], axis=[-1])\n",
    "#     union = keras.sum(y_true_f[:,1:], axis=[-1]) + keras.sum(y_pred_f[:,1:], axis=[-1])\n",
    "#     # apply dice formula\n",
    "#     dice = keras.mean((2. * intersection + smooth)/(union + smooth), axis=0)\n",
    "#     dice_loss = 1 - dice\n",
    "# #     return dice\n",
    "\n",
    "#     bce = tf.keras.losses.BinaryCrossentropy(from_logits=True)\n",
    "#     BCE =  bce(targets, inputs)\n",
    "    \n",
    "#     Dice_BCE = alpha*BCE + (1-alpha)*dice_loss\n",
    "    \n",
    "#     return Dice_BCE"
   ]
  },
  {
   "cell_type": "code",
   "execution_count": 6,
   "id": "3303e939",
   "metadata": {},
   "outputs": [],
   "source": [
    "def DiceBCELoss(targets, inputs, smooth=1e-6,alpha=0):    \n",
    "       \n",
    "    #flatten label and prediction tensors\n",
    "    inputs = keras.flatten(inputs)\n",
    "    targets = keras.flatten(targets)\n",
    "    \n",
    "    intersection = keras.sum(targets*inputs)\n",
    "    dice = (2*intersection + smooth) / (keras.sum(targets) + keras.sum(inputs) + smooth)\n",
    "    dice_loss = 1 - dice\n",
    "    \n",
    "    bce = tf.keras.losses.BinaryCrossentropy(from_logits=True)\n",
    "    BCE =  bce(targets, inputs)\n",
    "    \n",
    "    Dice_BCE = alpha*BCE + (1-alpha)*dice_loss\n",
    "    \n",
    "    return Dice_BCE"
   ]
  },
  {
   "cell_type": "code",
   "execution_count": 7,
   "id": "283273a7",
   "metadata": {},
   "outputs": [],
   "source": [
    "def Dice_BCELoss(y_true,y_pred):\n",
    "    return DiceBCELoss(y_true, y_pred)"
   ]
  },
  {
   "cell_type": "code",
   "execution_count": 8,
   "id": "df3ea836",
   "metadata": {},
   "outputs": [],
   "source": [
    "def BCE_loss(y_true, y_pred):\n",
    "    bce = tf.keras.losses.BinaryCrossentropy(from_logits=True)\n",
    "    BCE =  bce(y_true, y_pred)\n",
    "    return BCE"
   ]
  },
  {
   "cell_type": "code",
   "execution_count": 9,
   "id": "221a8286",
   "metadata": {},
   "outputs": [],
   "source": [
    "def IoULoss(targets, inputs, smooth=1e-6):\n",
    "    \n",
    "    #flatten label and prediction tensors\n",
    "    inputs = keras.flatten(inputs)\n",
    "    targets = keras.flatten(targets)\n",
    "    \n",
    "    intersection = keras.sum(targets*inputs)\n",
    "    total = keras.sum(targets) + keras.sum(inputs)\n",
    "    union = total - intersection\n",
    "    \n",
    "    IoU = (intersection + smooth) / (union + smooth)\n",
    "    return 1 - IoU"
   ]
  },
  {
   "cell_type": "code",
   "execution_count": 10,
   "id": "cc76ff46",
   "metadata": {},
   "outputs": [],
   "source": [
    "def IoU_Loss(y_true,y_pred):\n",
    "    return IoULoss(y_true, y_pred)"
   ]
  }
 ],
 "metadata": {
  "kernelspec": {
   "display_name": "Python 3 (ipykernel)",
   "language": "python",
   "name": "python3"
  },
  "language_info": {
   "codemirror_mode": {
    "name": "ipython",
    "version": 3
   },
   "file_extension": ".py",
   "mimetype": "text/x-python",
   "name": "python",
   "nbconvert_exporter": "python",
   "pygments_lexer": "ipython3",
   "version": "3.8.12"
  }
 },
 "nbformat": 4,
 "nbformat_minor": 5
}

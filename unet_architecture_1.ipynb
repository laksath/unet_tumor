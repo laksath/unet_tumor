{
 "cells": [
  {
   "cell_type": "code",
   "execution_count": 1,
   "id": "36f0b42d",
   "metadata": {},
   "outputs": [],
   "source": [
    "%run headers.ipynb"
   ]
  },
  {
   "cell_type": "markdown",
   "id": "d07adbff",
   "metadata": {},
   "source": [
    "## Unet Construction:"
   ]
  },
  {
   "cell_type": "markdown",
   "id": "101b22cc",
   "metadata": {},
   "source": [
    "#### Example of UNet structure:"
   ]
  },
  {
   "cell_type": "code",
   "execution_count": 2,
   "id": "34ff2a53",
   "metadata": {},
   "outputs": [],
   "source": [
    "# %%html\n",
    "# <img src=\"https://lmb.informatik.uni-freiburg.de/people/ronneber/u-net/u-net-architecture.png\" style=\"width:100%\">\n",
    "# <img src=\"https://i.ibb.co/zQ75mGw/Screenshot-219.png\" style=\"width:100%\">"
   ]
  },
  {
   "cell_type": "code",
   "execution_count": 3,
   "id": "db49ec81",
   "metadata": {
    "scrolled": false
   },
   "outputs": [],
   "source": [
    "# %%html\n",
    "# <img src=\"https://i.ibb.co/ZWSj0HQ/Screenshot-222.png\" style=\"width:100%\">\n",
    "# <img src=\"https://i.ibb.co/XxLLSfH/Screenshot-223.png\" style=\"width:100%\">"
   ]
  },
  {
   "cell_type": "markdown",
   "id": "7d97d920",
   "metadata": {},
   "source": [
    "#### We construct encoders and decoders to simply the problem.This decreases the complexity of the problem."
   ]
  },
  {
   "cell_type": "code",
   "execution_count": 4,
   "id": "7dc88c10",
   "metadata": {},
   "outputs": [],
   "source": [
    "def conv_block(input_, num_filters):\n",
    "    \n",
    "#     conv2D_1 = Conv2D(filters = num_filters,kernel_size =  3, padding=\"same\")(input_)\n",
    "    conv2D_1 = Conv2D(filters = num_filters,kernel_size =  3, kernel_initializer = 'he_normal', padding=\"same\")(input_)\n",
    "    batch1 = BatchNormalization()(conv2D_1)\n",
    "    act1 = Activation(\"relu\")(batch1)\n",
    "\n",
    "#     conv2D_2 = Conv2D(filters = num_filters,kernel_size =  3, padding=\"same\")(act1)\n",
    "    conv2D_2 = Conv2D(filters = num_filters,kernel_size =  3, kernel_initializer = 'he_normal', padding=\"same\")(act1)\n",
    "    batch2 = BatchNormalization()(conv2D_2)\n",
    "    act2 = Activation(\"relu\")(batch2)\n",
    "\n",
    "    return act2"
   ]
  },
  {
   "cell_type": "code",
   "execution_count": 5,
   "id": "6ceacfeb",
   "metadata": {},
   "outputs": [],
   "source": [
    "#green arrow\n",
    "def gating_signal(input_,num_filters):\n",
    "    \n",
    "    x = Conv2D(filters = num_filters,kernel_size =  3,strides = (1, 1), padding='same')(input_)\n",
    "    x = BatchNormalization()(x)\n",
    "    x = Activation('relu')(x)\n",
    "    return x"
   ]
  },
  {
   "cell_type": "code",
   "execution_count": 6,
   "id": "7b6d2fc5",
   "metadata": {},
   "outputs": [],
   "source": [
    "def attention_gate(input_,gating_input,num_filters):\n",
    "    \n",
    "    shape_conv_inp = keras.int_shape(input_)\n",
    "    shape_gate = keras.int_shape(gating_input)\n",
    "    \n",
    "    #     shape_gate = (shape_conv_inp)/2 (stays true for all padding='same')\n",
    "    #     we decrease the dim by 2 to sum up.    \n",
    "    #     2x2 strides to match shape_gate   \n",
    "    \n",
    "    conv_inp = Conv2D(num_filters, (3,3), strides=(2, 2), padding='same')(input_)\n",
    "    \n",
    "    gating_conv_concat = add([conv_inp,gating_input])\n",
    "    concat_relu = Activation(\"relu\")(gating_conv_concat)\n",
    "    \n",
    "    pixel_weight = Conv2D(1,(1,1),padding='same')(concat_relu)\n",
    "    sigmoid_pixel_weight = Activation(\"sigmoid\")(pixel_weight)\n",
    "    \n",
    "    shape_sigmoid = keras.int_shape(sigmoid_pixel_weight)\n",
    "    \n",
    "    upsample_shape_sigmoid = UpSampling2D(size=(shape_conv_inp[1] // shape_sigmoid[1], shape_conv_inp[2] // shape_sigmoid[2]))(sigmoid_pixel_weight)\n",
    "    \n",
    "    upsample_psi = Lambda(lambda x, repnum: keras.repeat_elements(x, repnum, axis=3),arguments={'repnum': shape_conv_inp[3]}) (upsample_shape_sigmoid)\n",
    "\n",
    "    y = multiply([upsample_psi, input_])\n",
    "    \n",
    "    result = Conv2D(shape_conv_inp[3], (1, 1), padding='same')(y)\n",
    "    result_bn = BatchNormalization()(result)\n",
    "    return result_bn"
   ]
  },
  {
   "cell_type": "code",
   "execution_count": 7,
   "id": "c9dc5a39",
   "metadata": {},
   "outputs": [],
   "source": [
    "count=0"
   ]
  },
  {
   "cell_type": "code",
   "execution_count": 8,
   "id": "b28c79ef",
   "metadata": {},
   "outputs": [],
   "source": [
    "def encoder_block(input_, num_filters):\n",
    "    global count\n",
    "    count+=1\n",
    "    print(count)\n",
    "    conv = conv_block(input_, num_filters)\n",
    "#     if count==4:\n",
    "#         drop = Dropout(0.075)(conv)\n",
    "#         pool = MaxPool2D((2, 2))(drop)\n",
    "#         count=0\n",
    "#         return conv, pool\n",
    "    pool = MaxPool2D((2, 2))(conv)\n",
    "    drop = Dropout(0.075)(pool)\n",
    "    return conv, drop"
   ]
  },
  {
   "cell_type": "code",
   "execution_count": 9,
   "id": "8bc5f093",
   "metadata": {},
   "outputs": [],
   "source": [
    "def decoder_block(input_, skip_features, num_filters):\n",
    "    x = Conv2DTranspose(filters = num_filters,kernel_size = (2, 2), strides=2, padding=\"same\")(input_)\n",
    "    x = Concatenate()([x, skip_features])\n",
    "    x = Dropout(0.075)(x)\n",
    "    x = conv_block(x, num_filters)\n",
    "    return x"
   ]
  },
  {
   "cell_type": "code",
   "execution_count": 10,
   "id": "6c729dac",
   "metadata": {},
   "outputs": [],
   "source": [
    "def unet_build(input_shape):\n",
    "    \n",
    "    inputs = Input(input_shape)\n",
    "    \n",
    "    conv1, pool1 = encoder_block(inputs, 16)\n",
    "    conv2, pool2 = encoder_block(pool1, 32)\n",
    "    conv3, pool3 = encoder_block(pool2, 64) \n",
    "    conv4, pool4 = encoder_block(pool3, 128) \n",
    "\n",
    "    bridge = conv_block(pool4, 256)\n",
    "\n",
    "    decoder_1 = decoder_block(bridge, conv4, 128)\n",
    "    decoder_2 = decoder_block(decoder_1, conv3, 64)\n",
    "    decoder_3 = decoder_block(decoder_2, conv2, 32)\n",
    "    decoder_4 = decoder_block(decoder_3, conv1, 16)\n",
    "\n",
    "    outputs = Conv2D(1, 1, padding=\"same\", activation=\"sigmoid\") (decoder_4)\n",
    "#     outputs = Conv2D(1, 1, padding=\"same\") (decoder_4)\n",
    "\n",
    "    model = Model(inputs, outputs, name=\"U-Net\")\n",
    "    return model"
   ]
  },
  {
   "cell_type": "code",
   "execution_count": 11,
   "id": "9076e072",
   "metadata": {},
   "outputs": [],
   "source": [
    "def attention_unet_build(input_shape):\n",
    "    \n",
    "    inputs = Input(input_shape)\n",
    "    \n",
    "    #encode\n",
    "    conv1, pool1 = encoder_block(inputs, 32)\n",
    "    conv2, pool2 = encoder_block(pool1, 64)\n",
    "    conv3, pool3 = encoder_block(pool2, 128) \n",
    "    conv4, pool4 = encoder_block(pool3, 256) \n",
    "\n",
    "    #bridge\n",
    "    bridge = conv_block(pool4, 512)\n",
    "    \n",
    "    #gating,#attention,#decode\n",
    "    gating_signal_1 = gating_signal(bridge,256)\n",
    "    attention_1 = attention_gate(conv4,gating_signal_1,256)\n",
    "    decoder_1 = decoder_block(bridge, attention_1, 256)\n",
    "    \n",
    "    #gating,#attention,#decode\n",
    "    gating_signal_2 = gating_signal(decoder_1,128)\n",
    "    attention_2 = attention_gate(conv3,gating_signal_2,128)\n",
    "    decoder_2 = decoder_block(decoder_1, attention_2, 128)\n",
    "    \n",
    "    #gating,#attention,#decode\n",
    "    gating_signal_3 = gating_signal(decoder_2,64)\n",
    "    attention_3 = attention_gate(conv2,gating_signal_3,64)\n",
    "    decoder_3 = decoder_block(decoder_2, attention_3, 64)\n",
    "    \n",
    "    #gating,#attention,#decode\n",
    "    gating_signal_4 = gating_signal(decoder_3,32)\n",
    "    attention_4 = attention_gate(conv1,gating_signal_4,32)\n",
    "    decoder_4 = decoder_block(decoder_3, attention_4, 32)\n",
    "\n",
    "    outputs = Conv2D(1, 1, padding=\"same\", activation=\"sigmoid\") (decoder_4)\n",
    "#     outputs = Conv2D(1, 1, padding=\"same\") (decoder_4)\n",
    "\n",
    "    model = Model(inputs, outputs, name=\"AU-Net\")\n",
    "    return model"
   ]
  },
  {
   "cell_type": "code",
   "execution_count": 12,
   "id": "22f3594c",
   "metadata": {},
   "outputs": [],
   "source": [
    "# def unet_build(input_shape):\n",
    "    \n",
    "#     inputs = Input(input_shape)\n",
    "\n",
    "#     conv1, pool1 = encoder_block(inputs, 32)\n",
    "#     conv2, pool2 = encoder_block(pool1, 64)\n",
    "#     conv3, pool3 = encoder_block(pool2, 128) \n",
    "#     conv4, pool4 = encoder_block(pool3, 256) \n",
    "\n",
    "#     bridge = conv_block(pool4, 512)\n",
    "\n",
    "#     decoder_1 = decoder_block(bridge, conv4, 256)\n",
    "#     decoder_2 = decoder_block(decoder_1, conv3, 128)\n",
    "#     decoder_3 = decoder_block(decoder_2, conv2, 64)\n",
    "#     decoder_4 = decoder_block(decoder_3, conv1, 32)\n",
    "\n",
    "#     outputs = Conv2D(1, 1, padding=\"same\", activation=\"sigmoid\") (decoder_4)\n",
    "\n",
    "#     model = Model(inputs, outputs, name=\"U-Net\")\n",
    "#     return model"
   ]
  }
 ],
 "metadata": {
  "kernelspec": {
   "display_name": "Python 3 (ipykernel)",
   "language": "python",
   "name": "python3"
  },
  "language_info": {
   "codemirror_mode": {
    "name": "ipython",
    "version": 3
   },
   "file_extension": ".py",
   "mimetype": "text/x-python",
   "name": "python",
   "nbconvert_exporter": "python",
   "pygments_lexer": "ipython3",
   "version": "3.8.12"
  }
 },
 "nbformat": 4,
 "nbformat_minor": 5
}

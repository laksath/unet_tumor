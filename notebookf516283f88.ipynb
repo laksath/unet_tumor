{
 "cells": [
  {
   "cell_type": "code",
   "execution_count": 1,
   "metadata": {
    "_cell_guid": "b1076dfc-b9ad-4769-8c92-a6c4dae69d19",
    "_uuid": "8f2839f25d086af736a60e9eeb907d3b93b6e0e5",
    "execution": {
     "iopub.execute_input": "2021-12-05T01:13:47.411132Z",
     "iopub.status.busy": "2021-12-05T01:13:47.410224Z",
     "iopub.status.idle": "2021-12-05T01:13:47.679694Z",
     "shell.execute_reply": "2021-12-05T01:13:47.678907Z",
     "shell.execute_reply.started": "2021-12-05T01:13:47.411013Z"
    }
   },
   "outputs": [],
   "source": [
    "import numpy as np \n",
    "import pandas as pd\n",
    "\n",
    "import os\n",
    "for dirname, _, filenames in os.walk('/kaggle/input'):\n",
    "    for filename in filenames:\n",
    "        os.path.join(dirname, filename)"
   ]
  },
  {
   "cell_type": "code",
   "execution_count": null,
   "metadata": {},
   "outputs": [],
   "source": []
  },
  {
   "cell_type": "code",
   "execution_count": 2,
   "metadata": {
    "execution": {
     "iopub.execute_input": "2021-12-05T01:13:47.682301Z",
     "iopub.status.busy": "2021-12-05T01:13:47.682015Z",
     "iopub.status.idle": "2021-12-05T01:13:51.830287Z",
     "shell.execute_reply": "2021-12-05T01:13:51.829551Z",
     "shell.execute_reply.started": "2021-12-05T01:13:47.682264Z"
    }
   },
   "outputs": [
    {
     "data": {
      "text/plain": [
       "'2.6.0'"
      ]
     },
     "execution_count": 2,
     "metadata": {},
     "output_type": "execute_result"
    }
   ],
   "source": [
    "import tensorflow as tf\n",
    "\n",
    "tf.__version__"
   ]
  },
  {
   "cell_type": "code",
   "execution_count": 3,
   "metadata": {
    "execution": {
     "iopub.execute_input": "2021-12-05T01:13:51.831904Z",
     "iopub.status.busy": "2021-12-05T01:13:51.831648Z",
     "iopub.status.idle": "2021-12-05T01:13:52.020671Z",
     "shell.execute_reply": "2021-12-05T01:13:52.019863Z",
     "shell.execute_reply.started": "2021-12-05T01:13:51.831871Z"
    }
   },
   "outputs": [],
   "source": [
    "import re\n",
    "import matplotlib.pyplot as plt\n",
    "import cv2"
   ]
  },
  {
   "cell_type": "code",
   "execution_count": 4,
   "metadata": {
    "execution": {
     "iopub.execute_input": "2021-12-05T01:13:52.023276Z",
     "iopub.status.busy": "2021-12-05T01:13:52.023006Z",
     "iopub.status.idle": "2021-12-05T01:13:52.033631Z",
     "shell.execute_reply": "2021-12-05T01:13:52.032859Z",
     "shell.execute_reply.started": "2021-12-05T01:13:52.023236Z"
    }
   },
   "outputs": [],
   "source": [
    "# framObjTrain = {'img' : [],\n",
    "#            'mask' : []\n",
    "#           }\n",
    "\n",
    "# ## defining data Loader function\n",
    "# def LoadData( frameObj = None, imgPath = None, maskPath = None, shape = 256):\n",
    "#     imgNames = os.listdir(imgPath)\n",
    "    \n",
    "#     names = []\n",
    "#     maskNames = []\n",
    "#     unames = []\n",
    "    \n",
    "#     for i in range(len(imgNames)):\n",
    "#         unames.append(imgNames[i].split(')')[0])\n",
    "    \n",
    "#     unames = list(set(unames))\n",
    "    \n",
    "#     for i in range(len(unames)):\n",
    "#         names.append(unames[i]+').png')\n",
    "#         maskNames.append(unames[i]+')_mask.png')\n",
    "    \n",
    "#     imgAddr = imgPath + '/'\n",
    "#     maskAddr = maskPath + '/'\n",
    "    \n",
    "#     for i in range (len(names)):\n",
    "#         img = plt.imread(imgAddr + names[i])\n",
    "#         mask = plt.imread(maskAddr + maskNames[i])\n",
    "        \n",
    "#         img = cv2.resize(img, (shape, shape)) \n",
    "#         mask = cv2.resize(mask, (shape, shape))\n",
    "        \n",
    "#         frameObj['img'].append(img)\n",
    "#         frameObj['mask'].append(mask)\n",
    "        \n",
    "#     return frameObj"
   ]
  },
  {
   "cell_type": "code",
   "execution_count": 5,
   "metadata": {
    "execution": {
     "iopub.execute_input": "2021-12-05T01:13:52.035475Z",
     "iopub.status.busy": "2021-12-05T01:13:52.035009Z",
     "iopub.status.idle": "2021-12-05T01:14:07.51239Z",
     "shell.execute_reply": "2021-12-05T01:14:07.511561Z",
     "shell.execute_reply.started": "2021-12-05T01:13:52.03544Z"
    }
   },
   "outputs": [],
   "source": [
    "# %%time\n",
    "\n",
    "# framObjTrain = LoadData(framObjTrain, \n",
    "#                     imgPath = 'D:/tumor/Dataset_BUSI_with_GT/benign',\n",
    "#                     maskPath = 'D:/tumor/Dataset_BUSI_with_GT/benign',\n",
    "#                     shape = 256)\n",
    "# framObjTrain = LoadData(framObjTrain, \n",
    "#                         imgPath = 'D:/tumor/Dataset_BUSI_with_GT/malignant',\n",
    "#                         maskPath = 'D:/tumor/Dataset_BUSI_with_GT/malignant',\n",
    "#                         shape = 256)\n",
    "# framObjTrain = LoadData(framObjTrain, \n",
    "#                         imgPath = 'D:/tumor/Dataset_BUSI_with_GT/normal',\n",
    "#                         maskPath = 'D:/tumor/Dataset_BUSI_with_GT/normal',\n",
    "#                         shape = 256)"
   ]
  },
  {
   "cell_type": "code",
   "execution_count": 6,
   "metadata": {
    "execution": {
     "iopub.execute_input": "2021-12-05T01:14:07.514256Z",
     "iopub.status.busy": "2021-12-05T01:14:07.513768Z",
     "iopub.status.idle": "2021-12-05T01:14:07.524396Z",
     "shell.execute_reply": "2021-12-05T01:14:07.52353Z",
     "shell.execute_reply.started": "2021-12-05T01:14:07.514212Z"
    }
   },
   "outputs": [],
   "source": [
    "# for disease in os.listdir('D:/tumor/Dataset_BUSI_with_GT'):\n",
    "#     count = len(os.listdir('D:/tumor/Dataset_BUSI_with_GT/{}'.format(disease)))\n",
    "#     print('Total number of images for', disease, 'is:', count)"
   ]
  },
  {
   "cell_type": "code",
   "execution_count": 7,
   "metadata": {
    "execution": {
     "iopub.execute_input": "2021-12-05T01:14:07.527257Z",
     "iopub.status.busy": "2021-12-05T01:14:07.527057Z",
     "iopub.status.idle": "2021-12-05T01:14:07.878801Z",
     "shell.execute_reply": "2021-12-05T01:14:07.878097Z",
     "shell.execute_reply.started": "2021-12-05T01:14:07.527232Z"
    }
   },
   "outputs": [],
   "source": [
    "# ## display any random image\n",
    "# plt.figure(figsize = (10, 7))\n",
    "# plt.subplot(1,2,1)\n",
    "# plt.imshow(framObjTrain['img'][100])\n",
    "# plt.title('Ultra Sound Image')\n",
    "# plt.subplot(1,2,2)\n",
    "# plt.imshow(framObjTrain['mask'][100])\n",
    "# plt.title('Mask for Cancer')\n",
    "# plt.show()"
   ]
  },
  {
   "cell_type": "code",
   "execution_count": 8,
   "metadata": {
    "execution": {
     "iopub.execute_input": "2021-12-05T01:14:07.880106Z",
     "iopub.status.busy": "2021-12-05T01:14:07.879847Z",
     "iopub.status.idle": "2021-12-05T01:14:07.901688Z",
     "shell.execute_reply": "2021-12-05T01:14:07.900863Z",
     "shell.execute_reply.started": "2021-12-05T01:14:07.880071Z"
    }
   },
   "outputs": [],
   "source": [
    "###########################################################################\n",
    "#                                Model   Defination                       #\n",
    "###########################################################################\n",
    "\n",
    "\n",
    "# this block essentially performs 2 convolution\n",
    "\n",
    "def Conv2dBlock(inputTensor, numFilters, kernelSize = 3, doBatchNorm = True):\n",
    "    #first Conv\n",
    "    x = tf.keras.layers.Conv2D(filters = numFilters, kernel_size = (kernelSize, kernelSize),\n",
    "                              kernel_initializer = 'he_normal', padding = 'same') (inputTensor)\n",
    "    \n",
    "    if doBatchNorm:\n",
    "        x = tf.keras.layers.BatchNormalization()(x)\n",
    "        \n",
    "    x =tf.keras.layers.Activation('relu')(x)\n",
    "    \n",
    "    #Second Conv\n",
    "    x = tf.keras.layers.Conv2D(filters = numFilters, kernel_size = (kernelSize, kernelSize),\n",
    "                              kernel_initializer = 'he_normal', padding = 'same') (x)\n",
    "    if doBatchNorm:\n",
    "        x = tf.keras.layers.BatchNormalization()(x)\n",
    "        \n",
    "    x = tf.keras.layers.Activation('relu')(x)\n",
    "    \n",
    "    return x\n",
    "\n",
    "\n",
    "# Now defining Unet \n",
    "def GiveMeUnet(inputImage, numFilters = 16, droupouts = 0.1, doBatchNorm = True):\n",
    "    # defining encoder Path\n",
    "    c1 = Conv2dBlock(inputImage, numFilters * 1, kernelSize = 3, doBatchNorm = doBatchNorm)\n",
    "    p1 = tf.keras.layers.MaxPooling2D((2,2))(c1)\n",
    "    p1 = tf.keras.layers.Dropout(droupouts)(p1)\n",
    "    \n",
    "    c2 = Conv2dBlock(p1, numFilters * 2, kernelSize = 3, doBatchNorm = doBatchNorm)\n",
    "    p2 = tf.keras.layers.MaxPooling2D((2,2))(c2)\n",
    "    p2 = tf.keras.layers.Dropout(droupouts)(p2)\n",
    "    \n",
    "    c3 = Conv2dBlock(p2, numFilters * 4, kernelSize = 3, doBatchNorm = doBatchNorm)\n",
    "    p3 = tf.keras.layers.MaxPooling2D((2,2))(c3)\n",
    "    p3 = tf.keras.layers.Dropout(droupouts)(p3)\n",
    "    \n",
    "    c4 = Conv2dBlock(p3, numFilters * 8, kernelSize = 3, doBatchNorm = doBatchNorm)\n",
    "    p4 = tf.keras.layers.MaxPooling2D((2,2))(c4)\n",
    "    p4 = tf.keras.layers.Dropout(droupouts)(p4)\n",
    "    \n",
    "    c5 = Conv2dBlock(p4, numFilters * 16, kernelSize = 3, doBatchNorm = doBatchNorm)\n",
    "    \n",
    "    # defining decoder path\n",
    "    u6 = tf.keras.layers.Conv2DTranspose(numFilters*8, (3, 3), strides = (2, 2), padding = 'same')(c5)\n",
    "    u6 = tf.keras.layers.concatenate([u6, c4])\n",
    "    u6 = tf.keras.layers.Dropout(droupouts)(u6)\n",
    "    c6 = Conv2dBlock(u6, numFilters * 8, kernelSize = 3, doBatchNorm = doBatchNorm)\n",
    "    \n",
    "    u7 = tf.keras.layers.Conv2DTranspose(numFilters*4, (3, 3), strides = (2, 2), padding = 'same')(c6)\n",
    "    \n",
    "    u7 = tf.keras.layers.concatenate([u7, c3])\n",
    "    u7 = tf.keras.layers.Dropout(droupouts)(u7)\n",
    "    c7 = Conv2dBlock(u7, numFilters * 4, kernelSize = 3, doBatchNorm = doBatchNorm)\n",
    "    \n",
    "    u8 = tf.keras.layers.Conv2DTranspose(numFilters*2, (3, 3), strides = (2, 2), padding = 'same')(c7)\n",
    "    u8 = tf.keras.layers.concatenate([u8, c2])\n",
    "    u8 = tf.keras.layers.Dropout(droupouts)(u8)\n",
    "    c8 = Conv2dBlock(u8, numFilters * 2, kernelSize = 3, doBatchNorm = doBatchNorm)\n",
    "    \n",
    "    u9 = tf.keras.layers.Conv2DTranspose(numFilters*1, (3, 3), strides = (2, 2), padding = 'same')(c8)\n",
    "    u9 = tf.keras.layers.concatenate([u9, c1])\n",
    "    u9 = tf.keras.layers.Dropout(droupouts)(u9)\n",
    "    c9 = Conv2dBlock(u9, numFilters * 1, kernelSize = 3, doBatchNorm = doBatchNorm)\n",
    "    \n",
    "    output = tf.keras.layers.Conv2D(1, (1, 1), activation = 'sigmoid')(c9)\n",
    "    model = tf.keras.Model(inputs = [inputImage], outputs = [output])\n",
    "    return model"
   ]
  },
  {
   "cell_type": "code",
   "execution_count": 9,
   "metadata": {
    "execution": {
     "iopub.execute_input": "2021-12-05T01:14:07.903643Z",
     "iopub.status.busy": "2021-12-05T01:14:07.903153Z",
     "iopub.status.idle": "2021-12-05T01:14:11.617234Z",
     "shell.execute_reply": "2021-12-05T01:14:11.616521Z",
     "shell.execute_reply.started": "2021-12-05T01:14:07.903605Z"
    }
   },
   "outputs": [],
   "source": [
    "inputs = tf.keras.layers.Input((256, 256, 3))\n",
    "myTransformer = GiveMeUnet(inputs, droupouts= 0.07)\n",
    "myTransformer.compile(optimizer = 'Adam', loss = 'binary_crossentropy', metrics = ['accuracy'] )"
   ]
  },
  {
   "cell_type": "code",
   "execution_count": 10,
   "metadata": {
    "execution": {
     "iopub.execute_input": "2021-12-05T01:14:11.619676Z",
     "iopub.status.busy": "2021-12-05T01:14:11.619483Z",
     "iopub.status.idle": "2021-12-05T01:14:11.625771Z",
     "shell.execute_reply": "2021-12-05T01:14:11.624535Z",
     "shell.execute_reply.started": "2021-12-05T01:14:11.619652Z"
    }
   },
   "outputs": [],
   "source": [
    "# class CustomSaver(keras.callbacks.Callback):\n",
    "#     def on_epoch_end(self, epoch, logs={}):\n",
    "#         if score >= max(self.history):\n",
    "#             print('saving checkpoint: ', score)\n",
    "#             self.model.save('../working/cancer_bestqwk.h5')"
   ]
  },
  {
   "cell_type": "code",
   "execution_count": 11,
   "metadata": {
    "execution": {
     "iopub.execute_input": "2021-12-05T01:14:11.628583Z",
     "iopub.status.busy": "2021-12-05T01:14:11.628194Z",
     "iopub.status.idle": "2021-12-05T01:14:11.642095Z",
     "shell.execute_reply": "2021-12-05T01:14:11.641366Z",
     "shell.execute_reply.started": "2021-12-05T01:14:11.628539Z"
    }
   },
   "outputs": [],
   "source": [
    "filepath = 'D:/tumor/my_best_model.hdf5'"
   ]
  },
  {
   "cell_type": "code",
   "execution_count": 12,
   "metadata": {
    "execution": {
     "iopub.execute_input": "2021-12-05T01:14:11.64365Z",
     "iopub.status.busy": "2021-12-05T01:14:11.643399Z",
     "iopub.status.idle": "2021-12-05T01:14:11.653569Z",
     "shell.execute_reply": "2021-12-05T01:14:11.652912Z",
     "shell.execute_reply.started": "2021-12-05T01:14:11.643618Z"
    }
   },
   "outputs": [
    {
     "name": "stdout",
     "output_type": "stream",
     "text": [
      "WARNING:tensorflow:`epsilon` argument is deprecated and will be removed, use `min_delta` instead.\n"
     ]
    }
   ],
   "source": [
    "from tensorflow.keras.callbacks import (ModelCheckpoint, LearningRateScheduler,\n",
    "                             EarlyStopping, ReduceLROnPlateau,CSVLogger)\n",
    "\n",
    "epochs = 30; batch_size = 32\n",
    "checkpoint = ModelCheckpoint(filepath=filepath, monitor='val_accuracy', verbose=1, \n",
    "                             save_best_only=True)\n",
    "reduceLROnPlat = ReduceLROnPlateau(monitor='val_loss', factor=0.5, patience=5, \n",
    "                                   verbose=1, epsilon=0.0001)\n",
    "early = EarlyStopping(monitor=\"val_accuracy\", verbose=1,\n",
    "                      patience=5)"
   ]
  },
  {
   "cell_type": "code",
   "execution_count": 13,
   "metadata": {
    "execution": {
     "iopub.execute_input": "2021-12-05T01:14:11.655689Z",
     "iopub.status.busy": "2021-12-05T01:14:11.655416Z",
     "iopub.status.idle": "2021-12-05T01:14:11.666324Z",
     "shell.execute_reply": "2021-12-05T01:14:11.665568Z",
     "shell.execute_reply.started": "2021-12-05T01:14:11.655653Z"
    }
   },
   "outputs": [],
   "source": [
    "callbacks = [checkpoint, reduceLROnPlat, early]"
   ]
  },
  {
   "cell_type": "code",
   "execution_count": 14,
   "metadata": {
    "execution": {
     "iopub.execute_input": "2021-12-05T01:14:11.667739Z",
     "iopub.status.busy": "2021-12-05T01:14:11.667419Z",
     "iopub.status.idle": "2021-12-05T01:16:37.286758Z",
     "shell.execute_reply": "2021-12-05T01:16:37.285973Z",
     "shell.execute_reply.started": "2021-12-05T01:14:11.667681Z"
    }
   },
   "outputs": [],
   "source": [
    "# retVal = myTransformer.fit(np.array(framObjTrain['img']), np.array(framObjTrain['mask'],dtype=object), epochs = 30, verbose = 1, callbacks=callbacks)"
   ]
  },
  {
   "cell_type": "code",
   "execution_count": 15,
   "metadata": {},
   "outputs": [],
   "source": [
    "%run dataset.ipynb\n",
    "[X_train, X_test, y_train, y_test] = UNet_dataset(0.8)"
   ]
  },
  {
   "cell_type": "code",
   "execution_count": null,
   "metadata": {},
   "outputs": [
    {
     "name": "stdout",
     "output_type": "stream",
     "text": [
      "Epoch 1/30\n"
     ]
    }
   ],
   "source": [
    "retVal = myTransformer.fit(X_train, y_train, epochs = 30, verbose = 1, callbacks=callbacks)"
   ]
  },
  {
   "cell_type": "code",
   "execution_count": null,
   "metadata": {
    "execution": {
     "iopub.execute_input": "2021-12-05T01:16:37.293403Z",
     "iopub.status.busy": "2021-12-05T01:16:37.291376Z",
     "iopub.status.idle": "2021-12-05T01:16:37.587307Z",
     "shell.execute_reply": "2021-12-05T01:16:37.586676Z",
     "shell.execute_reply.started": "2021-12-05T01:16:37.293363Z"
    }
   },
   "outputs": [],
   "source": [
    "plt.plot(retVal.history['loss'], label = 'training_loss')\n",
    "plt.plot(retVal.history['accuracy'], label = 'training_accuracy')\n",
    "plt.legend()\n",
    "plt.grid(True)"
   ]
  },
  {
   "cell_type": "code",
   "execution_count": null,
   "metadata": {
    "execution": {
     "iopub.execute_input": "2021-12-05T01:17:43.640172Z",
     "iopub.status.busy": "2021-12-05T01:17:43.639657Z",
     "iopub.status.idle": "2021-12-05T01:17:43.64757Z",
     "shell.execute_reply": "2021-12-05T01:17:43.646776Z",
     "shell.execute_reply.started": "2021-12-05T01:17:43.640133Z"
    }
   },
   "outputs": [],
   "source": [
    "def predict16 (valMap, model, shape = 256):\n",
    "    ## getting and proccessing val data\n",
    "    img = valMap['img'][0:16]\n",
    "    mask = valMap['mask'][0:16]\n",
    "    #mask = mask[0:16]\n",
    "    \n",
    "    imgProc = img [0:16]\n",
    "    imgProc = np.array(img)\n",
    "    \n",
    "    predictions = model.predict(imgProc)\n",
    "  \n",
    "\n",
    "    return predictions, imgProc, mask\n",
    "\n",
    "\n",
    "def Plotter(img, predMask, groundTruth):\n",
    "    plt.figure(figsize=(9,9))\n",
    "    \n",
    "    plt.subplot(1,3,1)\n",
    "    plt.imshow(img)\n",
    "    plt.title(' image')\n",
    "    \n",
    "    plt.subplot(1,3,2)\n",
    "    plt.imshow(predMask)\n",
    "    plt.title('Predicted mask')\n",
    "    \n",
    "    plt.subplot(1,3,3)\n",
    "    plt.imshow(groundTruth)\n",
    "    plt.title('Actual mask')"
   ]
  },
  {
   "cell_type": "code",
   "execution_count": null,
   "metadata": {
    "execution": {
     "iopub.execute_input": "2021-12-05T01:18:01.251233Z",
     "iopub.status.busy": "2021-12-05T01:18:01.250673Z",
     "iopub.status.idle": "2021-12-05T01:18:02.671932Z",
     "shell.execute_reply": "2021-12-05T01:18:02.671236Z",
     "shell.execute_reply.started": "2021-12-05T01:18:01.251195Z"
    }
   },
   "outputs": [],
   "source": [
    "sixteenPrediction, actuals, masks = predict16(framObjTrain, myTransformer)\n",
    "Plotter(actuals[1], sixteenPrediction[1][:,:,0], masks[1])"
   ]
  },
  {
   "cell_type": "code",
   "execution_count": null,
   "metadata": {
    "execution": {
     "iopub.execute_input": "2021-12-05T01:18:29.397453Z",
     "iopub.status.busy": "2021-12-05T01:18:29.396884Z",
     "iopub.status.idle": "2021-12-05T01:18:29.839935Z",
     "shell.execute_reply": "2021-12-05T01:18:29.839193Z",
     "shell.execute_reply.started": "2021-12-05T01:18:29.397406Z"
    }
   },
   "outputs": [],
   "source": [
    "Plotter(actuals[2], sixteenPrediction[2][:,:,0], masks[2])"
   ]
  },
  {
   "cell_type": "code",
   "execution_count": null,
   "metadata": {
    "execution": {
     "iopub.execute_input": "2021-12-05T01:18:50.265268Z",
     "iopub.status.busy": "2021-12-05T01:18:50.26501Z",
     "iopub.status.idle": "2021-12-05T01:18:50.675297Z",
     "shell.execute_reply": "2021-12-05T01:18:50.674589Z",
     "shell.execute_reply.started": "2021-12-05T01:18:50.265241Z"
    }
   },
   "outputs": [],
   "source": [
    "Plotter(actuals[3], sixteenPrediction[3][:,:,0], masks[3])"
   ]
  },
  {
   "cell_type": "code",
   "execution_count": null,
   "metadata": {
    "execution": {
     "iopub.execute_input": "2021-12-05T01:19:08.248768Z",
     "iopub.status.busy": "2021-12-05T01:19:08.248494Z",
     "iopub.status.idle": "2021-12-05T01:19:08.674726Z",
     "shell.execute_reply": "2021-12-05T01:19:08.674013Z",
     "shell.execute_reply.started": "2021-12-05T01:19:08.248737Z"
    }
   },
   "outputs": [],
   "source": [
    "Plotter(actuals[10], sixteenPrediction[10][:,:,0], masks[10])"
   ]
  },
  {
   "cell_type": "code",
   "execution_count": null,
   "metadata": {
    "execution": {
     "iopub.execute_input": "2021-12-05T01:19:34.776321Z",
     "iopub.status.busy": "2021-12-05T01:19:34.775793Z",
     "iopub.status.idle": "2021-12-05T01:19:35.045654Z",
     "shell.execute_reply": "2021-12-05T01:19:35.04494Z",
     "shell.execute_reply.started": "2021-12-05T01:19:34.776282Z"
    }
   },
   "outputs": [],
   "source": [
    "myTransformer.save('BreastCancerSegmentor.h5')"
   ]
  },
  {
   "cell_type": "code",
   "execution_count": null,
   "metadata": {},
   "outputs": [],
   "source": []
  }
 ],
 "metadata": {
  "kernelspec": {
   "display_name": "Python 3 (ipykernel)",
   "language": "python",
   "name": "python3"
  },
  "language_info": {
   "codemirror_mode": {
    "name": "ipython",
    "version": 3
   },
   "file_extension": ".py",
   "mimetype": "text/x-python",
   "name": "python",
   "nbconvert_exporter": "python",
   "pygments_lexer": "ipython3",
   "version": "3.8.12"
  }
 },
 "nbformat": 4,
 "nbformat_minor": 4
}

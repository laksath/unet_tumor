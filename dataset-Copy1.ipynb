{
 "cells": [
  {
   "cell_type": "code",
   "execution_count": 1,
   "id": "86e26273",
   "metadata": {},
   "outputs": [],
   "source": [
    "%run headers.ipynb"
   ]
  },
  {
   "cell_type": "code",
   "execution_count": 17,
   "id": "c32c12fa",
   "metadata": {},
   "outputs": [],
   "source": [
    "from skimage.io import imread, imshow\n",
    "from skimage.transform import resize"
   ]
  },
  {
   "cell_type": "markdown",
   "id": "14d292da",
   "metadata": {},
   "source": [
    "#### Images   ->  Ultrasound  || Masked  ->  Prediction"
   ]
  },
  {
   "cell_type": "markdown",
   "id": "683f8636",
   "metadata": {},
   "source": [
    "#### Load Data:"
   ]
  },
  {
   "cell_type": "code",
   "execution_count": 2,
   "id": "b7651753",
   "metadata": {},
   "outputs": [],
   "source": [
    "IMG_WIDTH = 128\n",
    "IMG_HEIGHT = 128\n",
    "IMG_CHANNELS = 3\n",
    "\n",
    "BENIGN_PATH = 'D:/tumor/Dataset_BUSI_with_GT/benign/'\n",
    "MALIGNANT_PATH = 'D:/tumor/Dataset_BUSI_with_GT/malignant/'\n",
    "NORMAL_PATH = 'D:/tumor/Dataset_BUSI_with_GT/normal/'"
   ]
  },
  {
   "cell_type": "code",
   "execution_count": 63,
   "id": "1b58ae0f",
   "metadata": {},
   "outputs": [
    {
     "data": {
      "text/plain": [
       "'D:/tumor/Dataset_BUSI_with_GT/benign/benign (195).png'"
      ]
     },
     "execution_count": 63,
     "metadata": {},
     "output_type": "execute_result"
    }
   ],
   "source": [
    "BENIGN_URL[216]"
   ]
  },
  {
   "cell_type": "code",
   "execution_count": 27,
   "id": "6b6694c6",
   "metadata": {},
   "outputs": [],
   "source": [
    "BENIGN_URL = ['D:/tumor/Dataset_BUSI_with_GT/benign/'+x for x in next(os.walk(BENIGN_PATH))[2]]\n",
    "MALIGNANT_URL = ['D:/tumor/Dataset_BUSI_with_GT/malignant/'+x for x in next(os.walk(MALIGNANT_PATH))[2]]\n",
    "NORMAL_URL = ['D:/tumor/Dataset_BUSI_with_GT/normal/'+x for x in next(os.walk(NORMAL_PATH))[2]]"
   ]
  },
  {
   "cell_type": "code",
   "execution_count": null,
   "id": "fb9e9d8b",
   "metadata": {},
   "outputs": [],
   "source": [
    "for n, id_ in tqdm(enumerate(train_ids), total=len(train_ids)):   \n",
    "    path = TRAIN_PATH + id_\n",
    "    img = imread(path + '/images/' + id_ + '.png')[:,:,:IMG_CHANNELS]  \n",
    "    img = resize(img, (IMG_HEIGHT, IMG_WIDTH), mode='constant', preserve_range=True)\n",
    "    X_train[n] = img  #Fill empty X_train with values from img\n",
    "    mask = np.zeros((IMG_HEIGHT, IMG_WIDTH, 1), dtype=np.bool)\n",
    "    for mask_file in next(os.walk(path + '/masks/'))[2]:\n",
    "        mask_ = imread(path + '/masks/' + mask_file)\n",
    "        mask_ = np.expand_dims(resize(mask_, (IMG_HEIGHT, IMG_WIDTH), mode='constant',  \n",
    "                                      preserve_range=True), axis=-1)\n",
    "        mask = np.maximum(mask, mask_)  \n",
    "            \n",
    "    Y_train[n] = mask   "
   ]
  },
  {
   "cell_type": "code",
   "execution_count": 29,
   "id": "fa7fb58d",
   "metadata": {},
   "outputs": [
    {
     "data": {
      "text/plain": [
       "'D:/tumor/Dataset_BUSI_with_GT/benign/benign (1).png'"
      ]
     },
     "execution_count": 29,
     "metadata": {},
     "output_type": "execute_result"
    }
   ],
   "source": [
    "BENIGN_URL[0]"
   ]
  },
  {
   "cell_type": "code",
   "execution_count": 38,
   "id": "2b71a0ed",
   "metadata": {},
   "outputs": [
    {
     "name": "stdout",
     "output_type": "stream",
     "text": [
      "D:/tumor/Dataset_BUSI_with_GT/benign/benign (1).png\n"
     ]
    }
   ],
   "source": [
    "for i,img_url in enumerate(BENIGN_URL):\n",
    "    print(img_url)\n",
    "    img = imread(img_url)[:,:,:IMG_CHANNELS]  \n",
    "    img = resize(img, (IMG_HEIGHT, IMG_WIDTH), mode='constant', preserve_range=True)\n",
    "    break"
   ]
  },
  {
   "cell_type": "code",
   "execution_count": 56,
   "id": "bdfbde75",
   "metadata": {},
   "outputs": [
    {
     "data": {
      "text/plain": [
       "'D:/tumor/Dataset_BUSI_with_GT/benign/benign (200)_mask.png'"
      ]
     },
     "execution_count": 56,
     "metadata": {},
     "output_type": "execute_result"
    }
   ],
   "source": [
    "BENIGN_URL[233]"
   ]
  },
  {
   "cell_type": "code",
   "execution_count": 54,
   "id": "122b6c77",
   "metadata": {},
   "outputs": [
    {
     "ename": "IndexError",
     "evalue": "too many indices for array: array is 2-dimensional, but 3 were indexed",
     "output_type": "error",
     "traceback": [
      "\u001b[1;31m---------------------------------------------------------------------------\u001b[0m",
      "\u001b[1;31mIndexError\u001b[0m                                Traceback (most recent call last)",
      "\u001b[1;32m~\\AppData\\Local\\Temp/ipykernel_9188/720699990.py\u001b[0m in \u001b[0;36m<module>\u001b[1;34m\u001b[0m\n\u001b[1;32m----> 1\u001b[1;33m \u001b[0mset\u001b[0m\u001b[1;33m(\u001b[0m\u001b[1;33m(\u001b[0m\u001b[0mimread\u001b[0m\u001b[1;33m(\u001b[0m\u001b[0mBENIGN_URL\u001b[0m\u001b[1;33m[\u001b[0m\u001b[1;36m233\u001b[0m\u001b[1;33m]\u001b[0m\u001b[1;33m)\u001b[0m \u001b[1;33m==\u001b[0m \u001b[0mimread\u001b[0m\u001b[1;33m(\u001b[0m\u001b[0mBENIGN_URL\u001b[0m\u001b[1;33m[\u001b[0m\u001b[1;36m233\u001b[0m\u001b[1;33m]\u001b[0m\u001b[1;33m)\u001b[0m\u001b[1;33m[\u001b[0m\u001b[1;33m:\u001b[0m\u001b[1;33m,\u001b[0m\u001b[1;33m:\u001b[0m\u001b[1;33m,\u001b[0m\u001b[1;33m:\u001b[0m\u001b[0mIMG_CHANNELS\u001b[0m\u001b[1;33m]\u001b[0m\u001b[1;33m)\u001b[0m\u001b[1;33m.\u001b[0m\u001b[0mflatten\u001b[0m\u001b[1;33m(\u001b[0m\u001b[1;33m)\u001b[0m\u001b[1;33m)\u001b[0m\u001b[1;33m\u001b[0m\u001b[1;33m\u001b[0m\u001b[0m\n\u001b[0m\u001b[0;32m      2\u001b[0m \u001b[1;31m# img\u001b[0m\u001b[1;33m\u001b[0m\u001b[1;33m\u001b[0m\u001b[1;33m\u001b[0m\u001b[0m\n\u001b[0;32m      3\u001b[0m \u001b[1;31m# img = resize(img, (IMG_HEIGHT, IMG_WIDTH), mode='constant', preserve_range=True)\u001b[0m\u001b[1;33m\u001b[0m\u001b[1;33m\u001b[0m\u001b[1;33m\u001b[0m\u001b[0m\n\u001b[0;32m      4\u001b[0m \u001b[1;31m# imshow(img)\u001b[0m\u001b[1;33m\u001b[0m\u001b[1;33m\u001b[0m\u001b[1;33m\u001b[0m\u001b[0m\n\u001b[0;32m      5\u001b[0m \u001b[1;31m# plt.show()\u001b[0m\u001b[1;33m\u001b[0m\u001b[1;33m\u001b[0m\u001b[1;33m\u001b[0m\u001b[0m\n",
      "\u001b[1;31mIndexError\u001b[0m: too many indices for array: array is 2-dimensional, but 3 were indexed"
     ]
    }
   ],
   "source": [
    "set((imread(BENIGN_URL[233]) == imread(BENIGN_URL[233])[:,:,:IMG_CHANNELS]).flatten())\n",
    "# img\n",
    "# img = resize(img, (IMG_HEIGHT, IMG_WIDTH), mode='constant', preserve_range=True)\n",
    "# imshow(img)\n",
    "# plt.show()"
   ]
  },
  {
   "cell_type": "code",
   "execution_count": 55,
   "id": "081f8df2",
   "metadata": {},
   "outputs": [
    {
     "data": {
      "text/plain": [
       "891"
      ]
     },
     "execution_count": 55,
     "metadata": {},
     "output_type": "execute_result"
    }
   ],
   "source": [
    "len(BENIGN_URL)"
   ]
  },
  {
   "cell_type": "code",
   "execution_count": 43,
   "id": "8c343b0a",
   "metadata": {},
   "outputs": [
    {
     "data": {
      "text/plain": [
       "array([[[ 43.63659668,  43.63659668,  43.63659668],\n",
       "        [ 98.41461182,  98.41461182,  98.41461182],\n",
       "        [ 92.2689209 ,  92.2689209 ,  92.2689209 ],\n",
       "        ...,\n",
       "        [194.        , 194.        , 194.        ],\n",
       "        [188.26153564, 188.26153564, 188.26153564],\n",
       "        [158.4453125 , 158.4453125 , 158.4453125 ]],\n",
       "\n",
       "       [[ 91.10528564,  91.10528564,  91.10528564],\n",
       "        [ 68.        ,  68.        ,  68.        ],\n",
       "        [ 80.78573608,  80.78573608,  80.78573608],\n",
       "        ...,\n",
       "        [195.75540161, 195.75540161, 195.75540161],\n",
       "        [184.27008057, 184.27008057, 184.27008057],\n",
       "        [152.52938843, 152.52938843, 152.52938843]],\n",
       "\n",
       "       [[ 84.77975464,  84.77975464,  84.77975464],\n",
       "        [ 85.31665039,  85.31665039,  85.31665039],\n",
       "        [110.97128296, 110.97128296, 110.97128296],\n",
       "        ...,\n",
       "        [165.04568481, 165.04568481, 165.04568481],\n",
       "        [161.34915161, 161.34915161, 161.34915161],\n",
       "        [136.50180054, 136.50180054, 136.50180054]],\n",
       "\n",
       "       ...,\n",
       "\n",
       "       [[ 20.08984375,  20.08984375,  20.08984375],\n",
       "        [ 24.30078125,  24.30078125,  24.30078125],\n",
       "        [ 23.93478394,  23.93478394,  23.93478394],\n",
       "        ...,\n",
       "        [ 23.80978394,  23.80978394,  23.80978394],\n",
       "        [ 19.6875    ,  19.6875    ,  19.6875    ],\n",
       "        [ 17.59976196,  17.59976196,  17.59976196]],\n",
       "\n",
       "       [[ 20.07235718,  20.07235718,  20.07235718],\n",
       "        [ 24.00167847,  24.00167847,  24.00167847],\n",
       "        [ 24.01953125,  24.01953125,  24.01953125],\n",
       "        ...,\n",
       "        [ 23.00930786,  23.00930786,  23.00930786],\n",
       "        [ 22.01953125,  22.01953125,  22.01953125],\n",
       "        [ 18.09951782,  18.09951782,  18.09951782]],\n",
       "\n",
       "       [[ 19.0703125 ,  19.0703125 ,  19.0703125 ],\n",
       "        [ 21.01953125,  21.01953125,  21.01953125],\n",
       "        [ 21.67398071,  21.67398071,  21.67398071],\n",
       "        ...,\n",
       "        [ 24.6796875 ,  24.6796875 ,  24.6796875 ],\n",
       "        [ 22.42578125,  22.42578125,  22.42578125],\n",
       "        [ 20.390625  ,  20.390625  ,  20.390625  ]]])"
      ]
     },
     "execution_count": 43,
     "metadata": {},
     "output_type": "execute_result"
    }
   ],
   "source": [
    "img"
   ]
  },
  {
   "cell_type": "code",
   "execution_count": 16,
   "id": "c89f8bb7",
   "metadata": {},
   "outputs": [
    {
     "data": {
      "text/plain": [
       "891"
      ]
     },
     "execution_count": 16,
     "metadata": {},
     "output_type": "execute_result"
    }
   ],
   "source": [
    "len(next(os.walk(BENIGN_PATH))[2])"
   ]
  }
 ],
 "metadata": {
  "kernelspec": {
   "display_name": "Python 3 (ipykernel)",
   "language": "python",
   "name": "python3"
  },
  "language_info": {
   "codemirror_mode": {
    "name": "ipython",
    "version": 3
   },
   "file_extension": ".py",
   "mimetype": "text/x-python",
   "name": "python",
   "nbconvert_exporter": "python",
   "pygments_lexer": "ipython3",
   "version": "3.8.12"
  }
 },
 "nbformat": 4,
 "nbformat_minor": 5
}
